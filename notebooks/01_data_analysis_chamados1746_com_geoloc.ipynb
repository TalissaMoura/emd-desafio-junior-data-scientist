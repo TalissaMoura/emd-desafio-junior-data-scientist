{
 "cells": [
  {
   "cell_type": "markdown",
   "metadata": {},
   "source": [
    "# Análise de dados dos chamados 1746 com geolocalização\n",
    "\n",
    "Esse notebook apresenta as respostas para as perguntas do arquivo `perguntas_desafio.md` relacionados a localização dos chamados 1746.\n",
    "\n",
    "O dataset utilizado para a análise é gerado pelo arquivo `01_generate_dataset_localizacao_chamados.py`. Nele estão contidos dados referentes a abril de 2023. Cada linha corresponde a um chamado com informações da localização, qual seu tipo e subtipo, data de inicio e fim do chamado, além de informações do bairro do chamado. As tabelas utilizadas para obter essas informações são: `datario.dados_mestres.bairro` e `datario.administracao_servicos_publicos.chamado_1746`."
   ]
  },
  {
   "cell_type": "markdown",
   "metadata": {},
   "source": [
    "# 1. Imports"
   ]
  },
  {
   "cell_type": "code",
   "execution_count": 1,
   "metadata": {},
   "outputs": [],
   "source": [
    "import pandas as pd\n",
    "from datetime import date"
   ]
  },
  {
   "cell_type": "markdown",
   "metadata": {},
   "source": [
    "# 2. Read dataset"
   ]
  },
  {
   "cell_type": "code",
   "execution_count": 3,
   "metadata": {},
   "outputs": [
    {
     "name": "stdout",
     "output_type": "stream",
     "text": [
      "dataset shape:  (73, 17)\n"
     ]
    },
    {
     "data": {
      "text/html": [
       "<div>\n",
       "<style scoped>\n",
       "    .dataframe tbody tr th:only-of-type {\n",
       "        vertical-align: middle;\n",
       "    }\n",
       "\n",
       "    .dataframe tbody tr th {\n",
       "        vertical-align: top;\n",
       "    }\n",
       "\n",
       "    .dataframe thead th {\n",
       "        text-align: right;\n",
       "    }\n",
       "</style>\n",
       "<table border=\"1\" class=\"dataframe\">\n",
       "  <thead>\n",
       "    <tr style=\"text-align: right;\">\n",
       "      <th></th>\n",
       "      <th>id_chamado</th>\n",
       "      <th>data_inicio</th>\n",
       "      <th>id_bairro</th>\n",
       "      <th>nome_bairro</th>\n",
       "      <th>subprefeitura</th>\n",
       "      <th>geometry_bairro</th>\n",
       "      <th>categoria</th>\n",
       "      <th>id_tipo</th>\n",
       "      <th>tipo</th>\n",
       "      <th>id_subtipo</th>\n",
       "      <th>subtipo</th>\n",
       "      <th>status</th>\n",
       "      <th>situacao</th>\n",
       "      <th>tipo_situacao</th>\n",
       "      <th>latitude</th>\n",
       "      <th>longitude</th>\n",
       "      <th>geometry_chamado</th>\n",
       "    </tr>\n",
       "  </thead>\n",
       "  <tbody>\n",
       "    <tr>\n",
       "      <th>0</th>\n",
       "      <td>18516246</td>\n",
       "      <td>2023-04-01 00:55:38</td>\n",
       "      <td>None</td>\n",
       "      <td>None</td>\n",
       "      <td>None</td>\n",
       "      <td>None</td>\n",
       "      <td>Serviço</td>\n",
       "      <td>93</td>\n",
       "      <td>Ônibus</td>\n",
       "      <td>1242</td>\n",
       "      <td>Verificação de ar condicionado inoperante no ô...</td>\n",
       "      <td>Fechado com informação</td>\n",
       "      <td>Encerrado</td>\n",
       "      <td>Atendido parcialmente</td>\n",
       "      <td>NaN</td>\n",
       "      <td>NaN</td>\n",
       "      <td>None</td>\n",
       "    </tr>\n",
       "    <tr>\n",
       "      <th>1</th>\n",
       "      <td>18516254</td>\n",
       "      <td>2023-04-01 01:08:04</td>\n",
       "      <td>1</td>\n",
       "      <td>Saúde</td>\n",
       "      <td>Centro</td>\n",
       "      <td>POLYGON((-43.181151633503 -22.8954302843042, -...</td>\n",
       "      <td>Serviço</td>\n",
       "      <td>782</td>\n",
       "      <td>Estacionamento Irregular</td>\n",
       "      <td>2966</td>\n",
       "      <td>Fiscalização de estacionamento irregular de ve...</td>\n",
       "      <td>Não constatado</td>\n",
       "      <td>Encerrado</td>\n",
       "      <td>Não constatado</td>\n",
       "      <td>NaN</td>\n",
       "      <td>NaN</td>\n",
       "      <td>None</td>\n",
       "    </tr>\n",
       "    <tr>\n",
       "      <th>2</th>\n",
       "      <td>18516194</td>\n",
       "      <td>2023-04-01 00:04:59</td>\n",
       "      <td>14</td>\n",
       "      <td>Santa Teresa</td>\n",
       "      <td>Centro</td>\n",
       "      <td>POLYGON((-43.1910446302859 -22.9133826039149, ...</td>\n",
       "      <td>Serviço</td>\n",
       "      <td>243</td>\n",
       "      <td>Comércio ambulante</td>\n",
       "      <td>1101</td>\n",
       "      <td>Fiscalização de comércio ambulante</td>\n",
       "      <td>Aberto</td>\n",
       "      <td>Não Encerrado</td>\n",
       "      <td>Andamento</td>\n",
       "      <td>-22.921335</td>\n",
       "      <td>-43.186679</td>\n",
       "      <td>POINT(-43.186679 -22.921335)</td>\n",
       "    </tr>\n",
       "    <tr>\n",
       "      <th>3</th>\n",
       "      <td>18516238</td>\n",
       "      <td>2023-04-01 00:38:22</td>\n",
       "      <td>5</td>\n",
       "      <td>Centro</td>\n",
       "      <td>Centro</td>\n",
       "      <td>MULTIPOLYGON(((-43.1658052142561 -22.897041460...</td>\n",
       "      <td>Serviço</td>\n",
       "      <td>244</td>\n",
       "      <td>Feiras</td>\n",
       "      <td>1108</td>\n",
       "      <td>Fiscalização/Inspeção de feira livre, feira de...</td>\n",
       "      <td>Aberto</td>\n",
       "      <td>Não Encerrado</td>\n",
       "      <td>Andamento</td>\n",
       "      <td>-22.912229</td>\n",
       "      <td>-43.188253</td>\n",
       "      <td>POINT(-43.1882526 -22.9122295)</td>\n",
       "    </tr>\n",
       "    <tr>\n",
       "      <th>4</th>\n",
       "      <td>18516208</td>\n",
       "      <td>2023-04-01 00:14:00</td>\n",
       "      <td>14</td>\n",
       "      <td>Santa Teresa</td>\n",
       "      <td>Centro</td>\n",
       "      <td>POLYGON((-43.1910446302859 -22.9133826039149, ...</td>\n",
       "      <td>Serviço</td>\n",
       "      <td>246</td>\n",
       "      <td>Ocupação de área pública</td>\n",
       "      <td>1111</td>\n",
       "      <td>Fiscalização da ocupação de área pública por m...</td>\n",
       "      <td>Aberto</td>\n",
       "      <td>Não Encerrado</td>\n",
       "      <td>Andamento</td>\n",
       "      <td>-22.921123</td>\n",
       "      <td>-43.187288</td>\n",
       "      <td>POINT(-43.1872883 -22.9211226)</td>\n",
       "    </tr>\n",
       "  </tbody>\n",
       "</table>\n",
       "</div>"
      ],
      "text/plain": [
       "  id_chamado         data_inicio id_bairro   nome_bairro subprefeitura  \\\n",
       "0   18516246 2023-04-01 00:55:38      None          None          None   \n",
       "1   18516254 2023-04-01 01:08:04         1         Saúde        Centro   \n",
       "2   18516194 2023-04-01 00:04:59        14  Santa Teresa        Centro   \n",
       "3   18516238 2023-04-01 00:38:22         5        Centro        Centro   \n",
       "4   18516208 2023-04-01 00:14:00        14  Santa Teresa        Centro   \n",
       "\n",
       "                                     geometry_bairro categoria id_tipo  \\\n",
       "0                                               None   Serviço      93   \n",
       "1  POLYGON((-43.181151633503 -22.8954302843042, -...   Serviço     782   \n",
       "2  POLYGON((-43.1910446302859 -22.9133826039149, ...   Serviço     243   \n",
       "3  MULTIPOLYGON(((-43.1658052142561 -22.897041460...   Serviço     244   \n",
       "4  POLYGON((-43.1910446302859 -22.9133826039149, ...   Serviço     246   \n",
       "\n",
       "                       tipo id_subtipo  \\\n",
       "0                    Ônibus       1242   \n",
       "1  Estacionamento Irregular       2966   \n",
       "2        Comércio ambulante       1101   \n",
       "3                    Feiras       1108   \n",
       "4  Ocupação de área pública       1111   \n",
       "\n",
       "                                             subtipo                  status  \\\n",
       "0  Verificação de ar condicionado inoperante no ô...  Fechado com informação   \n",
       "1  Fiscalização de estacionamento irregular de ve...          Não constatado   \n",
       "2                 Fiscalização de comércio ambulante                  Aberto   \n",
       "3  Fiscalização/Inspeção de feira livre, feira de...                  Aberto   \n",
       "4  Fiscalização da ocupação de área pública por m...                  Aberto   \n",
       "\n",
       "        situacao          tipo_situacao   latitude  longitude  \\\n",
       "0      Encerrado  Atendido parcialmente        NaN        NaN   \n",
       "1      Encerrado         Não constatado        NaN        NaN   \n",
       "2  Não Encerrado              Andamento -22.921335 -43.186679   \n",
       "3  Não Encerrado              Andamento -22.912229 -43.188253   \n",
       "4  Não Encerrado              Andamento -22.921123 -43.187288   \n",
       "\n",
       "                 geometry_chamado  \n",
       "0                            None  \n",
       "1                            None  \n",
       "2    POINT(-43.186679 -22.921335)  \n",
       "3  POINT(-43.1882526 -22.9122295)  \n",
       "4  POINT(-43.1872883 -22.9211226)  "
      ]
     },
     "execution_count": 3,
     "metadata": {},
     "output_type": "execute_result"
    }
   ],
   "source": [
    "df = pd.read_parquet(\n",
    "    \"../datasets/raw/dataset_daily_chamado1746_2023-04-01.parquet.gzip\"\n",
    ")\n",
    "print(\"dataset shape: \", df.shape)\n",
    "df.head()"
   ]
  },
  {
   "cell_type": "markdown",
   "metadata": {},
   "source": [
    "A seguir, vamos fazer algumas validações a respeito:\n",
    "- Tipos dos dados\n",
    "- Quantidade de valores nulos\n",
    "- Se existe dados duplicados"
   ]
  },
  {
   "cell_type": "code",
   "execution_count": 4,
   "metadata": {},
   "outputs": [
    {
     "data": {
      "text/plain": [
       "id_chamado                  object\n",
       "data_inicio         datetime64[ns]\n",
       "id_bairro                   object\n",
       "nome_bairro                 object\n",
       "subprefeitura               object\n",
       "geometry_bairro             object\n",
       "categoria                   object\n",
       "id_tipo                     object\n",
       "tipo                        object\n",
       "id_subtipo                  object\n",
       "subtipo                     object\n",
       "status                      object\n",
       "situacao                    object\n",
       "tipo_situacao               object\n",
       "latitude                   float64\n",
       "longitude                  float64\n",
       "geometry_chamado            object\n",
       "dtype: object"
      ]
     },
     "execution_count": 4,
     "metadata": {},
     "output_type": "execute_result"
    }
   ],
   "source": [
    "## Visualizando dtypes\n",
    "df.dtypes"
   ]
  },
  {
   "cell_type": "markdown",
   "metadata": {},
   "source": [
    "Os dados estão com seus tipos corretos e iguais ao visto no BigQuery."
   ]
  },
  {
   "cell_type": "markdown",
   "metadata": {},
   "source": [
    "É importante que os id_chamados sejam únicos pois isso garante que cada linha se refira a um único chamado. Para garantir que está tudo correto, vamos verificar se temos ids duplicados"
   ]
  },
  {
   "cell_type": "code",
   "execution_count": 5,
   "metadata": {},
   "outputs": [
    {
     "data": {
      "text/html": [
       "<div>\n",
       "<style scoped>\n",
       "    .dataframe tbody tr th:only-of-type {\n",
       "        vertical-align: middle;\n",
       "    }\n",
       "\n",
       "    .dataframe tbody tr th {\n",
       "        vertical-align: top;\n",
       "    }\n",
       "\n",
       "    .dataframe thead th {\n",
       "        text-align: right;\n",
       "    }\n",
       "</style>\n",
       "<table border=\"1\" class=\"dataframe\">\n",
       "  <thead>\n",
       "    <tr style=\"text-align: right;\">\n",
       "      <th></th>\n",
       "      <th>id_chamado</th>\n",
       "      <th>data_inicio</th>\n",
       "      <th>id_bairro</th>\n",
       "      <th>nome_bairro</th>\n",
       "      <th>subprefeitura</th>\n",
       "      <th>geometry_bairro</th>\n",
       "      <th>categoria</th>\n",
       "      <th>id_tipo</th>\n",
       "      <th>tipo</th>\n",
       "      <th>id_subtipo</th>\n",
       "      <th>subtipo</th>\n",
       "      <th>status</th>\n",
       "      <th>situacao</th>\n",
       "      <th>tipo_situacao</th>\n",
       "      <th>latitude</th>\n",
       "      <th>longitude</th>\n",
       "      <th>geometry_chamado</th>\n",
       "    </tr>\n",
       "  </thead>\n",
       "  <tbody>\n",
       "  </tbody>\n",
       "</table>\n",
       "</div>"
      ],
      "text/plain": [
       "Empty DataFrame\n",
       "Columns: [id_chamado, data_inicio, id_bairro, nome_bairro, subprefeitura, geometry_bairro, categoria, id_tipo, tipo, id_subtipo, subtipo, status, situacao, tipo_situacao, latitude, longitude, geometry_chamado]\n",
       "Index: []"
      ]
     },
     "execution_count": 5,
     "metadata": {},
     "output_type": "execute_result"
    }
   ],
   "source": [
    "df[df.duplicated(subset=[\"id_chamado\"])]"
   ]
  },
  {
   "cell_type": "markdown",
   "metadata": {},
   "source": [
    "Agora vamos avaliar a quantidade de dados nulos. É importante que não exista id_chamados nulos e também que cada um seja associado a uma data_inicio pois assim evitamos perdas de registros."
   ]
  },
  {
   "cell_type": "code",
   "execution_count": 6,
   "metadata": {},
   "outputs": [
    {
     "data": {
      "text/plain": [
       "id_chamado           0.000000\n",
       "data_inicio          0.000000\n",
       "id_bairro            1.369863\n",
       "nome_bairro          1.369863\n",
       "subprefeitura        1.369863\n",
       "geometry_bairro      1.369863\n",
       "categoria            0.000000\n",
       "id_tipo              0.000000\n",
       "tipo                 0.000000\n",
       "id_subtipo           0.000000\n",
       "subtipo              0.000000\n",
       "status               0.000000\n",
       "situacao             0.000000\n",
       "tipo_situacao        0.000000\n",
       "latitude            24.657534\n",
       "longitude           24.657534\n",
       "geometry_chamado    24.657534\n",
       "dtype: float64"
      ]
     },
     "execution_count": 6,
     "metadata": {},
     "output_type": "execute_result"
    }
   ],
   "source": [
    "# Verificando valores nulos\n",
    "(df.isnull().sum() / df.shape[0]) * 100.0"
   ]
  },
  {
   "cell_type": "markdown",
   "metadata": {},
   "source": [
    "Por fim, vamos avaliar que os dados contidos nesse dataset contém apenas dados de 04/2023."
   ]
  },
  {
   "cell_type": "code",
   "execution_count": 11,
   "metadata": {},
   "outputs": [
    {
     "name": "stdout",
     "output_type": "stream",
     "text": [
      "Valores de meses únicos: [4]\n",
      "Valores de anos únicos: [2023]\n"
     ]
    }
   ],
   "source": [
    "print(\"Valores de meses únicos:\", pd.unique(df[\"data_inicio\"].dt.month))\n",
    "print(\"Valores de anos únicos:\", pd.unique(df[\"data_inicio\"].dt.year))"
   ]
  },
  {
   "cell_type": "markdown",
   "metadata": {},
   "source": [
    "Os dados estão com ótima qualidade! Não existe id_chamado duplicados e nulos (estão consistentes), os tipos de dados estão corretos e conforme tabelas `chamado_1746` e `bairros` do datalake datario e também cada chamado tem sua data_inicio definida com todos os dados sendo de abril de 2023!"
   ]
  },
  {
   "cell_type": "markdown",
   "metadata": {},
   "source": [
    "# 3. Respondendo perguntas\n",
    "\n",
    "Com os dados validados, agora vamos responder as perguntas!"
   ]
  },
  {
   "cell_type": "markdown",
   "metadata": {},
   "source": [
    "## 1. Quantos chamados foram abertos no dia 01/04/2023?\n"
   ]
  },
  {
   "cell_type": "code",
   "execution_count": 12,
   "metadata": {},
   "outputs": [
    {
     "name": "stdout",
     "output_type": "stream",
     "text": [
      "Quantidade de chamados em 01/04/2023:  73\n"
     ]
    }
   ],
   "source": [
    "print(\"Quantidade de chamados em 01/04/2023: \", df.shape[0])"
   ]
  },
  {
   "cell_type": "markdown",
   "metadata": {},
   "source": [
    "## 2. Qual o tipo de chamado que teve mais teve chamados abertos no dia 01/04/2023?\n"
   ]
  },
  {
   "cell_type": "code",
   "execution_count": 13,
   "metadata": {},
   "outputs": [
    {
     "data": {
      "text/plain": [
       "Poluição sonora             24\n",
       "Estacionamento Irregular     9\n",
       "Iluminação Pública           8\n",
       "Remoção Gratuita             5\n",
       "Limpeza                      5\n",
       "Postura Municipal            4\n",
       "Ocupação de área pública     3\n",
       "Pavimentação                 3\n",
       "Comlurb - Vetores            2\n",
       "Fiscalização de obras        2\n",
       "Manejo Arbóreo               2\n",
       "Programa Cegonha Carioca     1\n",
       "Ônibus                       1\n",
       "Drenagem e Saneamento        1\n",
       "Feiras                       1\n",
       "Comércio ambulante           1\n",
       "Semáforo                     1\n",
       "Name: tipo, dtype: int64"
      ]
     },
     "execution_count": 13,
     "metadata": {},
     "output_type": "execute_result"
    },
    {
     "data": {
      "image/png": "[encoded data removed]",
      "text/plain": [
       "<Figure size 640x480 with 1 Axes>"
      ]
     },
     "metadata": {},
     "output_type": "display_data"
    }
   ],
   "source": [
    "df[\"tipo\"].value_counts().plot.barh()\n",
    "df[\"tipo\"].value_counts()"
   ]
  },
  {
   "cell_type": "markdown",
   "metadata": {},
   "source": [
    "Conforme ilustra os dados acima, poluição sonora foi o que mais apresentou chamados em 01/04/2023 seguido de estacionamento irregular e iluminação pública."
   ]
  },
  {
   "cell_type": "markdown",
   "metadata": {},
   "source": [
    "## 3. Quais os nomes dos 3 bairros que mais tiveram chamados abertos nesse dia?\n"
   ]
  },
  {
   "cell_type": "code",
   "execution_count": 14,
   "metadata": {},
   "outputs": [
    {
     "data": {
      "text/plain": [
       "Engenho de Dentro    8\n",
       "Leblon               6\n",
       "Campo Grande         6\n",
       "Barra da Tijuca      5\n",
       "Engenho da Rainha    5\n",
       "Tijuca               3\n",
       "Santa Teresa         3\n",
       "Paciência            2\n",
       "Vila da Penha        2\n",
       "Lapa                 2\n",
       "Name: nome_bairro, dtype: int64"
      ]
     },
     "execution_count": 14,
     "metadata": {},
     "output_type": "execute_result"
    },
    {
     "data": {
      "image/png": "[encoded data removed]",
      "text/plain": [
       "<Figure size 640x480 with 1 Axes>"
      ]
     },
     "metadata": {},
     "output_type": "display_data"
    }
   ],
   "source": [
    "df[\"nome_bairro\"].value_counts(ascending=False)[:10].plot.barh()\n",
    "df[\"nome_bairro\"].value_counts(ascending=False)[:10]"
   ]
  },
  {
   "cell_type": "markdown",
   "metadata": {},
   "source": [
    "Engenho de Dentro, Leblon e Campo Grande de acordo com os dados são os bairros com mais chamados abertos em 01/04/2023"
   ]
  },
  {
   "cell_type": "markdown",
   "metadata": {},
   "source": [
    "## 4. Qual o nome da subprefeitura com mais chamados abertos nesse dia?\n"
   ]
  },
  {
   "cell_type": "code",
   "execution_count": 16,
   "metadata": {},
   "outputs": [
    {
     "data": {
      "text/plain": [
       "Zona Norte         25\n",
       "Zona Sul           12\n",
       "Zona Oeste         10\n",
       "Centro              7\n",
       "Barra da Tijuca     6\n",
       "Jacarepaguá         5\n",
       "Grande Tijuca       4\n",
       "Grande Bangu        3\n",
       "Name: subprefeitura, dtype: int64"
      ]
     },
     "execution_count": 16,
     "metadata": {},
     "output_type": "execute_result"
    },
    {
     "data": {
      "image/png": "[encoded data removed]",
      "text/plain": [
       "<Figure size 640x480 with 1 Axes>"
      ]
     },
     "metadata": {},
     "output_type": "display_data"
    }
   ],
   "source": [
    "df[\"subprefeitura\"].value_counts(ascending=False).plot.barh()\n",
    "df[\"subprefeitura\"].value_counts()"
   ]
  },
  {
   "cell_type": "markdown",
   "metadata": {},
   "source": [
    "A subprefeitura da Zona Norte foi que a mais teves chamados abertos em 01/04/2023"
   ]
  },
  {
   "cell_type": "markdown",
   "metadata": {},
   "source": [
    "## 5. Existe algum chamado aberto nesse dia que não foi associado a um bairro ou subprefeitura na tabela de bairros? Se sim, por que isso acontece?\n"
   ]
  },
  {
   "cell_type": "markdown",
   "metadata": {},
   "source": [
    "Sim, existe um registro que não está associado a um id_bairro, por causa disso, ele não tem informações de bairro e subprefeitura."
   ]
  },
  {
   "cell_type": "code",
   "execution_count": 18,
   "metadata": {},
   "outputs": [
    {
     "data": {
      "text/plain": [
       "id_bairro        1\n",
       "nome_bairro      1\n",
       "subprefeitura    1\n",
       "dtype: int64"
      ]
     },
     "execution_count": 18,
     "metadata": {},
     "output_type": "execute_result"
    }
   ],
   "source": [
    "df[[\"id_bairro\", \"nome_bairro\", \"subprefeitura\"]].isna().sum()"
   ]
  },
  {
   "cell_type": "code",
   "execution_count": 19,
   "metadata": {},
   "outputs": [
    {
     "data": {
      "text/html": [
       "<div>\n",
       "<style scoped>\n",
       "    .dataframe tbody tr th:only-of-type {\n",
       "        vertical-align: middle;\n",
       "    }\n",
       "\n",
       "    .dataframe tbody tr th {\n",
       "        vertical-align: top;\n",
       "    }\n",
       "\n",
       "    .dataframe thead th {\n",
       "        text-align: right;\n",
       "    }\n",
       "</style>\n",
       "<table border=\"1\" class=\"dataframe\">\n",
       "  <thead>\n",
       "    <tr style=\"text-align: right;\">\n",
       "      <th></th>\n",
       "      <th>id_chamado</th>\n",
       "      <th>data_inicio</th>\n",
       "      <th>id_bairro</th>\n",
       "      <th>nome_bairro</th>\n",
       "      <th>subprefeitura</th>\n",
       "      <th>geometry_bairro</th>\n",
       "      <th>categoria</th>\n",
       "      <th>id_tipo</th>\n",
       "      <th>tipo</th>\n",
       "      <th>id_subtipo</th>\n",
       "      <th>subtipo</th>\n",
       "      <th>status</th>\n",
       "      <th>situacao</th>\n",
       "      <th>tipo_situacao</th>\n",
       "      <th>latitude</th>\n",
       "      <th>longitude</th>\n",
       "      <th>geometry_chamado</th>\n",
       "    </tr>\n",
       "  </thead>\n",
       "  <tbody>\n",
       "    <tr>\n",
       "      <th>0</th>\n",
       "      <td>18516246</td>\n",
       "      <td>2023-04-01 00:55:38</td>\n",
       "      <td>None</td>\n",
       "      <td>None</td>\n",
       "      <td>None</td>\n",
       "      <td>None</td>\n",
       "      <td>Serviço</td>\n",
       "      <td>93</td>\n",
       "      <td>Ônibus</td>\n",
       "      <td>1242</td>\n",
       "      <td>Verificação de ar condicionado inoperante no ô...</td>\n",
       "      <td>Fechado com informação</td>\n",
       "      <td>Encerrado</td>\n",
       "      <td>Atendido parcialmente</td>\n",
       "      <td>NaN</td>\n",
       "      <td>NaN</td>\n",
       "      <td>None</td>\n",
       "    </tr>\n",
       "  </tbody>\n",
       "</table>\n",
       "</div>"
      ],
      "text/plain": [
       "  id_chamado         data_inicio id_bairro nome_bairro subprefeitura  \\\n",
       "0   18516246 2023-04-01 00:55:38      None        None          None   \n",
       "\n",
       "  geometry_bairro categoria id_tipo    tipo id_subtipo  \\\n",
       "0            None   Serviço      93  Ônibus       1242   \n",
       "\n",
       "                                             subtipo                  status  \\\n",
       "0  Verificação de ar condicionado inoperante no ô...  Fechado com informação   \n",
       "\n",
       "    situacao          tipo_situacao  latitude  longitude geometry_chamado  \n",
       "0  Encerrado  Atendido parcialmente       NaN        NaN             None  "
      ]
     },
     "execution_count": 19,
     "metadata": {},
     "output_type": "execute_result"
    }
   ],
   "source": [
    "df[\n",
    "    (df[\"id_bairro\"].isnull())\n",
    "    | (df[\"nome_bairro\"].isnull())\n",
    "    | (df[\"subprefeitura\"].isnull())\n",
    "]"
   ]
  },
  {
   "cell_type": "code",
   "execution_count": null,
   "metadata": {},
   "outputs": [],
   "source": []
  },
  {
   "cell_type": "code",
   "execution_count": null,
   "metadata": {},
   "outputs": [],
   "source": []
  }
 ],
 "metadata": {
  "kernelspec": {
   "display_name": "ds-data-analysis-prefrj",
   "language": "python",
   "name": "python3"
  },
  "language_info": {
   "codemirror_mode": {
    "name": "ipython",
    "version": 3
   },
   "file_extension": ".py",
   "mimetype": "text/x-python",
   "name": "python",
   "nbconvert_exporter": "python",
   "pygments_lexer": "ipython3",
   "version": "3.10.13"
  }
 },
 "nbformat": 4,
 "nbformat_minor": 2
}
