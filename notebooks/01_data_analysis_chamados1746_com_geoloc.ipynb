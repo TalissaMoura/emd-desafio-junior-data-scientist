{
 "cells": [
  {
   "cell_type": "markdown",
   "metadata": {},
   "source": [
    "# Análise de dados dos chamados 1746 com geolocalização\n",
    "\n",
    "Esse notebook apresenta as respostas para as perguntas do arquivo `perguntas_desafio.md` relacionados a localização dos chamados 1746.\n",
    "\n",
    "O dataset utilizado para a análise é gerado pelo arquivo `01_generate_dataset_localizacao_chamados.py`. Nele estão contidos dados referentes a abril de 2023. Cada linha corresponde a um chamado com informações da localização, qual seu tipo e subtipo, data de inicio e fim do chamado, além de informações do bairro do chamado. As tabelas utilizadas para obter essas informações são: `datario.dados_mestres.bairro` e `datario.administracao_servicos_publicos.chamado_1746`."
   ]
  },
  {
   "cell_type": "markdown",
   "metadata": {},
   "source": [
    "# 1. Imports"
   ]
  },
  {
   "cell_type": "code",
   "execution_count": 1,
   "metadata": {},
   "outputs": [],
   "source": [
    "import pandas as pd\n",
    "from datetime import date"
   ]
  },
  {
   "cell_type": "markdown",
   "metadata": {},
   "source": [
    "# 2. Read dataset"
   ]
  },
  {
   "cell_type": "code",
   "execution_count": 2,
   "metadata": {},
   "outputs": [
    {
     "name": "stdout",
     "output_type": "stream",
     "text": [
      "dataset shape:  (65938, 37)\n"
     ]
    },
    {
     "data": {
      "text/html": [
       "<div>\n",
       "<style scoped>\n",
       "    .dataframe tbody tr th:only-of-type {\n",
       "        vertical-align: middle;\n",
       "    }\n",
       "\n",
       "    .dataframe tbody tr th {\n",
       "        vertical-align: top;\n",
       "    }\n",
       "\n",
       "    .dataframe thead th {\n",
       "        text-align: right;\n",
       "    }\n",
       "</style>\n",
       "<table border=\"1\" class=\"dataframe\">\n",
       "  <thead>\n",
       "    <tr style=\"text-align: right;\">\n",
       "      <th></th>\n",
       "      <th>id_chamado</th>\n",
       "      <th>data_inicio</th>\n",
       "      <th>data_fim</th>\n",
       "      <th>id_bairro</th>\n",
       "      <th>id_territorialidade</th>\n",
       "      <th>id_logradouro</th>\n",
       "      <th>numero_logradouro</th>\n",
       "      <th>id_unidade_organizacional</th>\n",
       "      <th>nome_unidade_organizacional</th>\n",
       "      <th>id_unidade_organizacional_mae</th>\n",
       "      <th>...</th>\n",
       "      <th>tipo_situacao</th>\n",
       "      <th>justificativa_status</th>\n",
       "      <th>reclamacoes</th>\n",
       "      <th>data_particao</th>\n",
       "      <th>geometry</th>\n",
       "      <th>nome_bairro</th>\n",
       "      <th>subprefeitura_bairro</th>\n",
       "      <th>area_bairro</th>\n",
       "      <th>perimetro_bairro</th>\n",
       "      <th>geometry_bairro</th>\n",
       "    </tr>\n",
       "  </thead>\n",
       "  <tbody>\n",
       "    <tr>\n",
       "      <th>0</th>\n",
       "      <td>18572008</td>\n",
       "      <td>2023-04-15 14:29:06</td>\n",
       "      <td>2023-04-15 20:49:39</td>\n",
       "      <td>138</td>\n",
       "      <td>5</td>\n",
       "      <td>37176</td>\n",
       "      <td>&lt;NA&gt;</td>\n",
       "      <td>24</td>\n",
       "      <td>GMA - Gerência de Manutenção Semafórica</td>\n",
       "      <td>CET-RIO - Companhia de Engenharia de Tráfego d...</td>\n",
       "      <td>...</td>\n",
       "      <td>Atendido</td>\n",
       "      <td>None</td>\n",
       "      <td>0</td>\n",
       "      <td>2023-04-01</td>\n",
       "      <td>None</td>\n",
       "      <td>Magalhães Bastos</td>\n",
       "      <td>Grande Bangu</td>\n",
       "      <td>1.975949e+06</td>\n",
       "      <td>6902.663944</td>\n",
       "      <td>POLYGON((-43.4092888518653 -22.882692479969, -...</td>\n",
       "    </tr>\n",
       "    <tr>\n",
       "      <th>1</th>\n",
       "      <td>18555003</td>\n",
       "      <td>2023-04-11 21:20:11</td>\n",
       "      <td>2023-04-11 22:44:59</td>\n",
       "      <td>144</td>\n",
       "      <td>5</td>\n",
       "      <td>13169</td>\n",
       "      <td>&lt;NA&gt;</td>\n",
       "      <td>24</td>\n",
       "      <td>GMA - Gerência de Manutenção Semafórica</td>\n",
       "      <td>CET-RIO - Companhia de Engenharia de Tráfego d...</td>\n",
       "      <td>...</td>\n",
       "      <td>Não constatado</td>\n",
       "      <td>None</td>\n",
       "      <td>0</td>\n",
       "      <td>2023-04-01</td>\n",
       "      <td>None</td>\n",
       "      <td>Campo Grande</td>\n",
       "      <td>Zona Oeste</td>\n",
       "      <td>1.044451e+08</td>\n",
       "      <td>75083.751962</td>\n",
       "      <td>POLYGON((-43.5151513986435 -22.8522866123935, ...</td>\n",
       "    </tr>\n",
       "    <tr>\n",
       "      <th>2</th>\n",
       "      <td>18524112</td>\n",
       "      <td>2023-04-03 16:04:34</td>\n",
       "      <td>2023-04-03 17:10:47</td>\n",
       "      <td>151</td>\n",
       "      <td>5</td>\n",
       "      <td>136010</td>\n",
       "      <td>206</td>\n",
       "      <td>24</td>\n",
       "      <td>GMA - Gerência de Manutenção Semafórica</td>\n",
       "      <td>CET-RIO - Companhia de Engenharia de Tráfego d...</td>\n",
       "      <td>...</td>\n",
       "      <td>Não constatado</td>\n",
       "      <td>None</td>\n",
       "      <td>0</td>\n",
       "      <td>2023-04-01</td>\n",
       "      <td>None</td>\n",
       "      <td>Guaratiba</td>\n",
       "      <td>Zona Oeste</td>\n",
       "      <td>1.317866e+08</td>\n",
       "      <td>88693.995709</td>\n",
       "      <td>MULTIPOLYGON(((-43.6606289230523 -22.999450064...</td>\n",
       "    </tr>\n",
       "    <tr>\n",
       "      <th>3</th>\n",
       "      <td>18546611</td>\n",
       "      <td>2023-04-10 12:47:06</td>\n",
       "      <td>2023-04-10 20:52:37</td>\n",
       "      <td>141</td>\n",
       "      <td>5</td>\n",
       "      <td>17228</td>\n",
       "      <td>&lt;NA&gt;</td>\n",
       "      <td>24</td>\n",
       "      <td>GMA - Gerência de Manutenção Semafórica</td>\n",
       "      <td>CET-RIO - Companhia de Engenharia de Tráfego d...</td>\n",
       "      <td>...</td>\n",
       "      <td>Não atendido</td>\n",
       "      <td>None</td>\n",
       "      <td>0</td>\n",
       "      <td>2023-04-01</td>\n",
       "      <td>None</td>\n",
       "      <td>Bangu</td>\n",
       "      <td>Grande Bangu</td>\n",
       "      <td>3.596620e+07</td>\n",
       "      <td>46529.035222</td>\n",
       "      <td>POLYGON((-43.4871729943856 -22.8488053266659, ...</td>\n",
       "    </tr>\n",
       "    <tr>\n",
       "      <th>4</th>\n",
       "      <td>18523976</td>\n",
       "      <td>2023-04-03 15:44:19</td>\n",
       "      <td>2023-04-04 11:31:43</td>\n",
       "      <td>151</td>\n",
       "      <td>5</td>\n",
       "      <td>136010</td>\n",
       "      <td>206</td>\n",
       "      <td>19</td>\n",
       "      <td>CTRT/AP 5.3 - Coordenadoria Técnica Regional d...</td>\n",
       "      <td>CET-RIO - Companhia de Engenharia de Tráfego d...</td>\n",
       "      <td>...</td>\n",
       "      <td>Não constatado</td>\n",
       "      <td>None</td>\n",
       "      <td>0</td>\n",
       "      <td>2023-04-01</td>\n",
       "      <td>None</td>\n",
       "      <td>Guaratiba</td>\n",
       "      <td>Zona Oeste</td>\n",
       "      <td>1.317866e+08</td>\n",
       "      <td>88693.995709</td>\n",
       "      <td>MULTIPOLYGON(((-43.6606289230523 -22.999450064...</td>\n",
       "    </tr>\n",
       "  </tbody>\n",
       "</table>\n",
       "<p>5 rows × 37 columns</p>\n",
       "</div>"
      ],
      "text/plain": [
       "  id_chamado         data_inicio            data_fim id_bairro  \\\n",
       "0   18572008 2023-04-15 14:29:06 2023-04-15 20:49:39       138   \n",
       "1   18555003 2023-04-11 21:20:11 2023-04-11 22:44:59       144   \n",
       "2   18524112 2023-04-03 16:04:34 2023-04-03 17:10:47       151   \n",
       "3   18546611 2023-04-10 12:47:06 2023-04-10 20:52:37       141   \n",
       "4   18523976 2023-04-03 15:44:19 2023-04-04 11:31:43       151   \n",
       "\n",
       "  id_territorialidade id_logradouro  numero_logradouro  \\\n",
       "0                   5         37176               <NA>   \n",
       "1                   5         13169               <NA>   \n",
       "2                   5        136010                206   \n",
       "3                   5         17228               <NA>   \n",
       "4                   5        136010                206   \n",
       "\n",
       "  id_unidade_organizacional  \\\n",
       "0                        24   \n",
       "1                        24   \n",
       "2                        24   \n",
       "3                        24   \n",
       "4                        19   \n",
       "\n",
       "                         nome_unidade_organizacional  \\\n",
       "0            GMA - Gerência de Manutenção Semafórica   \n",
       "1            GMA - Gerência de Manutenção Semafórica   \n",
       "2            GMA - Gerência de Manutenção Semafórica   \n",
       "3            GMA - Gerência de Manutenção Semafórica   \n",
       "4  CTRT/AP 5.3 - Coordenadoria Técnica Regional d...   \n",
       "\n",
       "                       id_unidade_organizacional_mae  ...   tipo_situacao  \\\n",
       "0  CET-RIO - Companhia de Engenharia de Tráfego d...  ...        Atendido   \n",
       "1  CET-RIO - Companhia de Engenharia de Tráfego d...  ...  Não constatado   \n",
       "2  CET-RIO - Companhia de Engenharia de Tráfego d...  ...  Não constatado   \n",
       "3  CET-RIO - Companhia de Engenharia de Tráfego d...  ...    Não atendido   \n",
       "4  CET-RIO - Companhia de Engenharia de Tráfego d...  ...  Não constatado   \n",
       "\n",
       "  justificativa_status reclamacoes data_particao geometry       nome_bairro  \\\n",
       "0                 None           0    2023-04-01     None  Magalhães Bastos   \n",
       "1                 None           0    2023-04-01     None      Campo Grande   \n",
       "2                 None           0    2023-04-01     None         Guaratiba   \n",
       "3                 None           0    2023-04-01     None             Bangu   \n",
       "4                 None           0    2023-04-01     None         Guaratiba   \n",
       "\n",
       "  subprefeitura_bairro   area_bairro  perimetro_bairro  \\\n",
       "0         Grande Bangu  1.975949e+06       6902.663944   \n",
       "1           Zona Oeste  1.044451e+08      75083.751962   \n",
       "2           Zona Oeste  1.317866e+08      88693.995709   \n",
       "3         Grande Bangu  3.596620e+07      46529.035222   \n",
       "4           Zona Oeste  1.317866e+08      88693.995709   \n",
       "\n",
       "                                     geometry_bairro  \n",
       "0  POLYGON((-43.4092888518653 -22.882692479969, -...  \n",
       "1  POLYGON((-43.5151513986435 -22.8522866123935, ...  \n",
       "2  MULTIPOLYGON(((-43.6606289230523 -22.999450064...  \n",
       "3  POLYGON((-43.4871729943856 -22.8488053266659, ...  \n",
       "4  MULTIPOLYGON(((-43.6606289230523 -22.999450064...  \n",
       "\n",
       "[5 rows x 37 columns]"
      ]
     },
     "execution_count": 2,
     "metadata": {},
     "output_type": "execute_result"
    }
   ],
   "source": [
    "df = pd.read_parquet(\n",
    "    \"../datasets/raw/dataset_chamado_1746_with_geoloc_2023-04-01.parquet.gzip\"\n",
    ")\n",
    "print(\"dataset shape: \", df.shape)\n",
    "df.head()"
   ]
  },
  {
   "cell_type": "markdown",
   "metadata": {},
   "source": [
    "A seguir, vamos fazer algumas validações a respeito:\n",
    "- Tipos dos dados\n",
    "- Quantidade de valores nulos\n",
    "- Se existe dados duplicados"
   ]
  },
  {
   "cell_type": "code",
   "execution_count": 3,
   "metadata": {},
   "outputs": [
    {
     "data": {
      "text/plain": [
       "id_chamado                                  object\n",
       "data_inicio                         datetime64[ns]\n",
       "data_fim                            datetime64[ns]\n",
       "id_bairro                                   object\n",
       "id_territorialidade                         object\n",
       "id_logradouro                               object\n",
       "numero_logradouro                            Int64\n",
       "id_unidade_organizacional                   object\n",
       "nome_unidade_organizacional                 object\n",
       "id_unidade_organizacional_mae               object\n",
       "unidade_organizacional_ouvidoria            object\n",
       "categoria                                   object\n",
       "id_tipo                                     object\n",
       "tipo                                        object\n",
       "id_subtipo                                  object\n",
       "subtipo                                     object\n",
       "status                                      object\n",
       "longitude                                  float64\n",
       "latitude                                   float64\n",
       "data_alvo_finalizacao               datetime64[ns]\n",
       "data_alvo_diagnostico               datetime64[ns]\n",
       "data_real_diagnostico               datetime64[ns]\n",
       "tempo_prazo                                  Int64\n",
       "prazo_unidade                               object\n",
       "prazo_tipo                                  object\n",
       "dentro_prazo                                object\n",
       "situacao                                    object\n",
       "tipo_situacao                               object\n",
       "justificativa_status                        object\n",
       "reclamacoes                                  Int64\n",
       "data_particao                       datetime64[ns]\n",
       "geometry                                    object\n",
       "nome_bairro                                 object\n",
       "subprefeitura_bairro                        object\n",
       "area_bairro                                float64\n",
       "perimetro_bairro                           float64\n",
       "geometry_bairro                             object\n",
       "dtype: object"
      ]
     },
     "execution_count": 3,
     "metadata": {},
     "output_type": "execute_result"
    }
   ],
   "source": [
    "## Visualizando dtypes\n",
    "df.dtypes"
   ]
  },
  {
   "cell_type": "markdown",
   "metadata": {},
   "source": [
    "Os dados estão com seus tipos corretos e iguais ao visto no BigQuery."
   ]
  },
  {
   "cell_type": "markdown",
   "metadata": {},
   "source": [
    "É importante que os id_chamados sejam únicos pois isso garante que cada linha se refira a um único chamado. Para garantir que está tudo correto, vamos verificar se temos ids duplicados"
   ]
  },
  {
   "cell_type": "code",
   "execution_count": 4,
   "metadata": {},
   "outputs": [
    {
     "data": {
      "text/html": [
       "<div>\n",
       "<style scoped>\n",
       "    .dataframe tbody tr th:only-of-type {\n",
       "        vertical-align: middle;\n",
       "    }\n",
       "\n",
       "    .dataframe tbody tr th {\n",
       "        vertical-align: top;\n",
       "    }\n",
       "\n",
       "    .dataframe thead th {\n",
       "        text-align: right;\n",
       "    }\n",
       "</style>\n",
       "<table border=\"1\" class=\"dataframe\">\n",
       "  <thead>\n",
       "    <tr style=\"text-align: right;\">\n",
       "      <th></th>\n",
       "      <th>id_chamado</th>\n",
       "      <th>data_inicio</th>\n",
       "      <th>data_fim</th>\n",
       "      <th>id_bairro</th>\n",
       "      <th>id_territorialidade</th>\n",
       "      <th>id_logradouro</th>\n",
       "      <th>numero_logradouro</th>\n",
       "      <th>id_unidade_organizacional</th>\n",
       "      <th>nome_unidade_organizacional</th>\n",
       "      <th>id_unidade_organizacional_mae</th>\n",
       "      <th>...</th>\n",
       "      <th>tipo_situacao</th>\n",
       "      <th>justificativa_status</th>\n",
       "      <th>reclamacoes</th>\n",
       "      <th>data_particao</th>\n",
       "      <th>geometry</th>\n",
       "      <th>nome_bairro</th>\n",
       "      <th>subprefeitura_bairro</th>\n",
       "      <th>area_bairro</th>\n",
       "      <th>perimetro_bairro</th>\n",
       "      <th>geometry_bairro</th>\n",
       "    </tr>\n",
       "  </thead>\n",
       "  <tbody>\n",
       "  </tbody>\n",
       "</table>\n",
       "<p>0 rows × 37 columns</p>\n",
       "</div>"
      ],
      "text/plain": [
       "Empty DataFrame\n",
       "Columns: [id_chamado, data_inicio, data_fim, id_bairro, id_territorialidade, id_logradouro, numero_logradouro, id_unidade_organizacional, nome_unidade_organizacional, id_unidade_organizacional_mae, unidade_organizacional_ouvidoria, categoria, id_tipo, tipo, id_subtipo, subtipo, status, longitude, latitude, data_alvo_finalizacao, data_alvo_diagnostico, data_real_diagnostico, tempo_prazo, prazo_unidade, prazo_tipo, dentro_prazo, situacao, tipo_situacao, justificativa_status, reclamacoes, data_particao, geometry, nome_bairro, subprefeitura_bairro, area_bairro, perimetro_bairro, geometry_bairro]\n",
       "Index: []\n",
       "\n",
       "[0 rows x 37 columns]"
      ]
     },
     "execution_count": 4,
     "metadata": {},
     "output_type": "execute_result"
    }
   ],
   "source": [
    "df[df.duplicated(subset=[\"id_chamado\"])]"
   ]
  },
  {
   "cell_type": "markdown",
   "metadata": {},
   "source": [
    "Agora vamos avaliar a quantidade de dados nulos. É importante que não exista id_chamados nulos e também que cada um seja associado a uma data_inicio pois assim evitamos perdas de registros."
   ]
  },
  {
   "cell_type": "code",
   "execution_count": 5,
   "metadata": {},
   "outputs": [
    {
     "data": {
      "text/plain": [
       "id_chamado                            0.000000\n",
       "data_inicio                           0.000000\n",
       "data_fim                             30.630289\n",
       "id_bairro                             3.861203\n",
       "id_territorialidade                   3.861203\n",
       "id_logradouro                         3.861203\n",
       "numero_logradouro                    11.806546\n",
       "id_unidade_organizacional             0.000000\n",
       "nome_unidade_organizacional           0.000000\n",
       "id_unidade_organizacional_mae         0.000000\n",
       "unidade_organizacional_ouvidoria      0.000000\n",
       "categoria                             0.000000\n",
       "id_tipo                               0.000000\n",
       "tipo                                  0.000000\n",
       "id_subtipo                            0.000000\n",
       "subtipo                               0.000000\n",
       "status                                0.000000\n",
       "longitude                            34.265522\n",
       "latitude                             34.265522\n",
       "data_alvo_finalizacao                 3.529073\n",
       "data_alvo_diagnostico                95.738421\n",
       "data_real_diagnostico                96.379933\n",
       "tempo_prazo                         100.000000\n",
       "prazo_unidade                         0.374594\n",
       "prazo_tipo                            0.374594\n",
       "dentro_prazo                          0.000000\n",
       "situacao                              0.000000\n",
       "tipo_situacao                         0.000000\n",
       "justificativa_status                100.000000\n",
       "reclamacoes                           0.000000\n",
       "data_particao                         0.000000\n",
       "geometry                             34.265522\n",
       "nome_bairro                           3.861203\n",
       "subprefeitura_bairro                  3.861203\n",
       "area_bairro                           3.861203\n",
       "perimetro_bairro                      3.861203\n",
       "geometry_bairro                       3.861203\n",
       "dtype: float64"
      ]
     },
     "execution_count": 5,
     "metadata": {},
     "output_type": "execute_result"
    }
   ],
   "source": [
    "# Verificando valores nulos\n",
    "(df.isnull().sum() / df.shape[0]) * 100.0"
   ]
  },
  {
   "cell_type": "markdown",
   "metadata": {},
   "source": [
    "Por fim, vamos avaliar que os dados contidos nesse dataset contém apenas dados de 04/2023."
   ]
  },
  {
   "cell_type": "code",
   "execution_count": 6,
   "metadata": {},
   "outputs": [
    {
     "data": {
      "text/plain": [
       "data_particao  data_inicio_month  data_inicio_year\n",
       "2023-04-01     4                  2023                65938\n",
       "dtype: int64"
      ]
     },
     "execution_count": 6,
     "metadata": {},
     "output_type": "execute_result"
    }
   ],
   "source": [
    "df_div_monthyear = df[[\"data_inicio\", \"data_particao\"]].copy()\n",
    "df_div_monthyear[\"data_inicio_month\"] = df_div_monthyear[\"data_inicio\"].dt.month\n",
    "df_div_monthyear[\"data_inicio_year\"] = df_div_monthyear[\"data_inicio\"].dt.year\n",
    "df_div_monthyear.groupby(\"data_particao\")[\n",
    "    [\"data_inicio_month\", \"data_inicio_year\"]\n",
    "].value_counts()"
   ]
  },
  {
   "cell_type": "markdown",
   "metadata": {},
   "source": [
    "Os dados estão com ótima qualidade! Não existe id_chamado duplicados e nulos (estão consistentes), os tipos de dados estão corretos e conforme tabela com BigQuery e também cada chamado tem sua data_inicio definida com todos os dados sendo de abril de 2023!"
   ]
  },
  {
   "cell_type": "markdown",
   "metadata": {},
   "source": [
    "# 3. Respondendo perguntas\n",
    "\n",
    "Com os dados validados, agora vamos responder as perguntas!"
   ]
  },
  {
   "cell_type": "markdown",
   "metadata": {},
   "source": [
    "## 1. Quantos chamados foram abertos no dia 01/04/2023?\n"
   ]
  },
  {
   "cell_type": "code",
   "execution_count": 7,
   "metadata": {},
   "outputs": [
    {
     "name": "stdout",
     "output_type": "stream",
     "text": [
      "Quantidade de chamados em 01/04/2023:  73\n"
     ]
    }
   ],
   "source": [
    "df_apr = df[df[\"data_inicio\"].dt.date == date(2023, 4, 1)]\n",
    "print(\"Quantidade de chamados em 01/04/2023: \", df_apr.shape[0])"
   ]
  },
  {
   "cell_type": "markdown",
   "metadata": {},
   "source": [
    "## 2. Qual o tipo de chamado que teve mais teve chamados abertos no dia 01/04/2023?\n"
   ]
  },
  {
   "cell_type": "code",
   "execution_count": 8,
   "metadata": {},
   "outputs": [
    {
     "data": {
      "text/plain": [
       "Poluição sonora             24\n",
       "Estacionamento Irregular     9\n",
       "Iluminação Pública           8\n",
       "Remoção Gratuita             5\n",
       "Limpeza                      5\n",
       "Postura Municipal            4\n",
       "Pavimentação                 3\n",
       "Ocupação de área pública     3\n",
       "Manejo Arbóreo               2\n",
       "Comlurb - Vetores            2\n",
       "Fiscalização de obras        2\n",
       "Semáforo                     1\n",
       "Comércio ambulante           1\n",
       "Ônibus                       1\n",
       "Drenagem e Saneamento        1\n",
       "Programa Cegonha Carioca     1\n",
       "Feiras                       1\n",
       "Name: tipo, dtype: int64"
      ]
     },
     "execution_count": 8,
     "metadata": {},
     "output_type": "execute_result"
    },
    {
     "data": {
      "image/png": "[encoded data removed]",
      "text/plain": [
       "<Figure size 640x480 with 1 Axes>"
      ]
     },
     "metadata": {},
     "output_type": "display_data"
    }
   ],
   "source": [
    "df_apr[\"tipo\"].value_counts().plot.barh()\n",
    "df_apr[\"tipo\"].value_counts()"
   ]
  },
  {
   "cell_type": "markdown",
   "metadata": {},
   "source": [
    "Conforme ilustra os dados acima, poluição sonora foi o que mais apresentou chamados em 01/04/2023 seguido de estacionamento irregular e iluminação pública."
   ]
  },
  {
   "cell_type": "markdown",
   "metadata": {},
   "source": [
    "## 3. Quais os nomes dos 3 bairros que mais tiveram chamados abertos nesse dia?\n"
   ]
  },
  {
   "cell_type": "code",
   "execution_count": 9,
   "metadata": {},
   "outputs": [
    {
     "data": {
      "text/plain": [
       "Engenho de Dentro    8\n",
       "Leblon               6\n",
       "Campo Grande         6\n",
       "Engenho da Rainha    5\n",
       "Barra da Tijuca      5\n",
       "Tijuca               3\n",
       "Santa Teresa         3\n",
       "Bangu                2\n",
       "Irajá                2\n",
       "Ipanema              2\n",
       "Name: nome_bairro, dtype: int64"
      ]
     },
     "execution_count": 9,
     "metadata": {},
     "output_type": "execute_result"
    },
    {
     "data": {
      "image/png": "[encoded data removed]",
      "text/plain": [
       "<Figure size 640x480 with 1 Axes>"
      ]
     },
     "metadata": {},
     "output_type": "display_data"
    }
   ],
   "source": [
    "df_apr[\"nome_bairro\"].value_counts(ascending=False)[:10].plot.barh()\n",
    "df_apr[\"nome_bairro\"].value_counts(ascending=False)[:10]"
   ]
  },
  {
   "cell_type": "markdown",
   "metadata": {},
   "source": [
    "Engenho de Dentro, Lebon e Campo Grande de acordo com os dados são os bairros com mais chamados abertos em 01/04/2023"
   ]
  },
  {
   "cell_type": "markdown",
   "metadata": {},
   "source": [
    "## 4. Qual o nome da subprefeitura com mais chamados abertos nesse dia?\n"
   ]
  },
  {
   "cell_type": "code",
   "execution_count": 10,
   "metadata": {},
   "outputs": [
    {
     "data": {
      "text/plain": [
       "Zona Norte         25\n",
       "Zona Sul           12\n",
       "Zona Oeste         10\n",
       "Centro              7\n",
       "Barra da Tijuca     6\n",
       "Jacarepaguá         5\n",
       "Grande Tijuca       4\n",
       "Grande Bangu        3\n",
       "Name: subprefeitura_bairro, dtype: int64"
      ]
     },
     "execution_count": 10,
     "metadata": {},
     "output_type": "execute_result"
    },
    {
     "data": {
      "image/png": "[encoded data removed]",
      "text/plain": [
       "<Figure size 640x480 with 1 Axes>"
      ]
     },
     "metadata": {},
     "output_type": "display_data"
    }
   ],
   "source": [
    "df_apr[\"subprefeitura_bairro\"].value_counts(ascending=False).plot.barh()\n",
    "df_apr[\"subprefeitura_bairro\"].value_counts()"
   ]
  },
  {
   "cell_type": "markdown",
   "metadata": {},
   "source": [
    "A subprefeitura da Zona Norte foi que a mais teves chamados abertos em 01/04/2023"
   ]
  },
  {
   "cell_type": "markdown",
   "metadata": {},
   "source": [
    "## 5. Existe algum chamado aberto nesse dia que não foi associado a um bairro ou subprefeitura na tabela de bairros? Se sim, por que isso acontece?\n"
   ]
  },
  {
   "cell_type": "markdown",
   "metadata": {},
   "source": [
    "Sim, existe um registro que não está associado a um id_bairro, por causa disso, ele não tem informações de bairro e subprefeitura."
   ]
  },
  {
   "cell_type": "code",
   "execution_count": 11,
   "metadata": {},
   "outputs": [
    {
     "data": {
      "text/plain": [
       "id_bairro               1\n",
       "nome_bairro             1\n",
       "subprefeitura_bairro    1\n",
       "dtype: int64"
      ]
     },
     "execution_count": 11,
     "metadata": {},
     "output_type": "execute_result"
    }
   ],
   "source": [
    "df_apr[[\"id_bairro\", \"nome_bairro\", \"subprefeitura_bairro\"]].isna().sum()"
   ]
  },
  {
   "cell_type": "code",
   "execution_count": 12,
   "metadata": {},
   "outputs": [
    {
     "data": {
      "text/html": [
       "<div>\n",
       "<style scoped>\n",
       "    .dataframe tbody tr th:only-of-type {\n",
       "        vertical-align: middle;\n",
       "    }\n",
       "\n",
       "    .dataframe tbody tr th {\n",
       "        vertical-align: top;\n",
       "    }\n",
       "\n",
       "    .dataframe thead th {\n",
       "        text-align: right;\n",
       "    }\n",
       "</style>\n",
       "<table border=\"1\" class=\"dataframe\">\n",
       "  <thead>\n",
       "    <tr style=\"text-align: right;\">\n",
       "      <th></th>\n",
       "      <th>id_chamado</th>\n",
       "      <th>data_inicio</th>\n",
       "      <th>data_fim</th>\n",
       "      <th>id_bairro</th>\n",
       "      <th>id_territorialidade</th>\n",
       "      <th>id_logradouro</th>\n",
       "      <th>numero_logradouro</th>\n",
       "      <th>id_unidade_organizacional</th>\n",
       "      <th>nome_unidade_organizacional</th>\n",
       "      <th>id_unidade_organizacional_mae</th>\n",
       "      <th>...</th>\n",
       "      <th>tipo_situacao</th>\n",
       "      <th>justificativa_status</th>\n",
       "      <th>reclamacoes</th>\n",
       "      <th>data_particao</th>\n",
       "      <th>geometry</th>\n",
       "      <th>nome_bairro</th>\n",
       "      <th>subprefeitura_bairro</th>\n",
       "      <th>area_bairro</th>\n",
       "      <th>perimetro_bairro</th>\n",
       "      <th>geometry_bairro</th>\n",
       "    </tr>\n",
       "  </thead>\n",
       "  <tbody>\n",
       "    <tr>\n",
       "      <th>323</th>\n",
       "      <td>18516246</td>\n",
       "      <td>2023-04-01 00:55:38</td>\n",
       "      <td>2023-04-01 00:55:38</td>\n",
       "      <td>None</td>\n",
       "      <td>None</td>\n",
       "      <td>None</td>\n",
       "      <td>&lt;NA&gt;</td>\n",
       "      <td>1706</td>\n",
       "      <td>TR/SUBOP/CFT - Coordenadoria de Fiscalização e...</td>\n",
       "      <td>SMTR - Secretaria Municipal de Transportes</td>\n",
       "      <td>...</td>\n",
       "      <td>Atendido parcialmente</td>\n",
       "      <td>None</td>\n",
       "      <td>0</td>\n",
       "      <td>2023-04-01</td>\n",
       "      <td>None</td>\n",
       "      <td>None</td>\n",
       "      <td>None</td>\n",
       "      <td>NaN</td>\n",
       "      <td>NaN</td>\n",
       "      <td>None</td>\n",
       "    </tr>\n",
       "  </tbody>\n",
       "</table>\n",
       "<p>1 rows × 37 columns</p>\n",
       "</div>"
      ],
      "text/plain": [
       "    id_chamado         data_inicio            data_fim id_bairro  \\\n",
       "323   18516246 2023-04-01 00:55:38 2023-04-01 00:55:38      None   \n",
       "\n",
       "    id_territorialidade id_logradouro  numero_logradouro  \\\n",
       "323                None          None               <NA>   \n",
       "\n",
       "    id_unidade_organizacional  \\\n",
       "323                      1706   \n",
       "\n",
       "                           nome_unidade_organizacional  \\\n",
       "323  TR/SUBOP/CFT - Coordenadoria de Fiscalização e...   \n",
       "\n",
       "                  id_unidade_organizacional_mae  ...          tipo_situacao  \\\n",
       "323  SMTR - Secretaria Municipal de Transportes  ...  Atendido parcialmente   \n",
       "\n",
       "    justificativa_status reclamacoes data_particao geometry nome_bairro  \\\n",
       "323                 None           0    2023-04-01     None        None   \n",
       "\n",
       "    subprefeitura_bairro  area_bairro  perimetro_bairro geometry_bairro  \n",
       "323                 None          NaN               NaN            None  \n",
       "\n",
       "[1 rows x 37 columns]"
      ]
     },
     "execution_count": 12,
     "metadata": {},
     "output_type": "execute_result"
    }
   ],
   "source": [
    "df_apr[\n",
    "    (df_apr[\"id_bairro\"].isnull())\n",
    "    | (df_apr[\"nome_bairro\"].isnull())\n",
    "    | (df_apr[\"subprefeitura_bairro\"].isnull())\n",
    "]"
   ]
  },
  {
   "cell_type": "code",
   "execution_count": null,
   "metadata": {},
   "outputs": [],
   "source": []
  },
  {
   "cell_type": "code",
   "execution_count": null,
   "metadata": {},
   "outputs": [],
   "source": []
  }
 ],
 "metadata": {
  "kernelspec": {
   "display_name": "ds-data-analysis-prefrj",
   "language": "python",
   "name": "python3"
  },
  "language_info": {
   "codemirror_mode": {
    "name": "ipython",
    "version": 3
   },
   "file_extension": ".py",
   "mimetype": "text/x-python",
   "name": "python",
   "nbconvert_exporter": "python",
   "pygments_lexer": "ipython3",
   "version": "3.10.13"
  }
 },
 "nbformat": 4,
 "nbformat_minor": 2
}
