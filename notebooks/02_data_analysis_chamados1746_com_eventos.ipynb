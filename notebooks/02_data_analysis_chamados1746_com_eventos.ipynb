{
 "cells": [
  {
   "cell_type": "markdown",
   "metadata": {},
   "source": [
    "## Análise de dados do chamado 1746 em grandes eventos\n",
    "\n",
    "Esse notebook apresenta as respostas para as perguntas do arquivo `perguntas_desafio.md` relacionados a quantidade de chamados 1746 em grande eventos.\n",
    "\n",
    "O dataset utilizado para a análise é gerado pelo arquivo `02_generate_dataset_chamados_subtype.py`. Nele estão contidos dados referentes a todos os meses dos anos de 2022 e 2023. Cada linha corresponde a um chamado com informações da localização, do tipo `Perturbação do Sossego` (id_subtipo igual a 5071), data de inicio e fim do chamado, além de informações do bairro do chamado. A tabela utilizada para adquirir esses dados é `datario.administracao_servicos_publicos.chamado_1746`. "
   ]
  },
  {
   "cell_type": "markdown",
   "metadata": {},
   "source": [
    "# 1. Imports"
   ]
  },
  {
   "cell_type": "code",
   "execution_count": 1,
   "metadata": {},
   "outputs": [],
   "source": [
    "import pandas as pd\n",
    "import numpy as np\n",
    "from datetime import date"
   ]
  },
  {
   "cell_type": "markdown",
   "metadata": {},
   "source": [
    "# 2. Leitura e validação dos dados"
   ]
  },
  {
   "cell_type": "code",
   "execution_count": 2,
   "metadata": {},
   "outputs": [
    {
     "name": "stdout",
     "output_type": "stream",
     "text": [
      "dataset shape:  (42408, 32)\n"
     ]
    },
    {
     "data": {
      "text/html": [
       "<div>\n",
       "<style scoped>\n",
       "    .dataframe tbody tr th:only-of-type {\n",
       "        vertical-align: middle;\n",
       "    }\n",
       "\n",
       "    .dataframe tbody tr th {\n",
       "        vertical-align: top;\n",
       "    }\n",
       "\n",
       "    .dataframe thead th {\n",
       "        text-align: right;\n",
       "    }\n",
       "</style>\n",
       "<table border=\"1\" class=\"dataframe\">\n",
       "  <thead>\n",
       "    <tr style=\"text-align: right;\">\n",
       "      <th></th>\n",
       "      <th>id_chamado</th>\n",
       "      <th>data_inicio</th>\n",
       "      <th>data_fim</th>\n",
       "      <th>id_bairro</th>\n",
       "      <th>id_territorialidade</th>\n",
       "      <th>id_logradouro</th>\n",
       "      <th>numero_logradouro</th>\n",
       "      <th>id_unidade_organizacional</th>\n",
       "      <th>nome_unidade_organizacional</th>\n",
       "      <th>id_unidade_organizacional_mae</th>\n",
       "      <th>...</th>\n",
       "      <th>tempo_prazo</th>\n",
       "      <th>prazo_unidade</th>\n",
       "      <th>prazo_tipo</th>\n",
       "      <th>dentro_prazo</th>\n",
       "      <th>situacao</th>\n",
       "      <th>tipo_situacao</th>\n",
       "      <th>justificativa_status</th>\n",
       "      <th>reclamacoes</th>\n",
       "      <th>data_particao</th>\n",
       "      <th>geometry</th>\n",
       "    </tr>\n",
       "  </thead>\n",
       "  <tbody>\n",
       "    <tr>\n",
       "      <th>0</th>\n",
       "      <td>18353603</td>\n",
       "      <td>2023-02-26 22:00:42</td>\n",
       "      <td>NaT</td>\n",
       "      <td>33</td>\n",
       "      <td>2</td>\n",
       "      <td>66381</td>\n",
       "      <td>359</td>\n",
       "      <td>70</td>\n",
       "      <td>GM-RIO - Guarda Municipal do Rio de Janeiro</td>\n",
       "      <td>GM-RIO - Guarda Municipal do Rio de Janeiro</td>\n",
       "      <td>...</td>\n",
       "      <td>&lt;NA&gt;</td>\n",
       "      <td>D</td>\n",
       "      <td>F</td>\n",
       "      <td>Fora do prazo</td>\n",
       "      <td>Não Encerrado</td>\n",
       "      <td>Andamento</td>\n",
       "      <td>None</td>\n",
       "      <td>0</td>\n",
       "      <td>2023-02-01</td>\n",
       "      <td>POINT(-43.2357612 -22.9239904)</td>\n",
       "    </tr>\n",
       "    <tr>\n",
       "      <th>1</th>\n",
       "      <td>18344353</td>\n",
       "      <td>2023-02-24 09:48:16</td>\n",
       "      <td>NaT</td>\n",
       "      <td>52</td>\n",
       "      <td>3</td>\n",
       "      <td>52225</td>\n",
       "      <td>15</td>\n",
       "      <td>70</td>\n",
       "      <td>GM-RIO - Guarda Municipal do Rio de Janeiro</td>\n",
       "      <td>GM-RIO - Guarda Municipal do Rio de Janeiro</td>\n",
       "      <td>...</td>\n",
       "      <td>&lt;NA&gt;</td>\n",
       "      <td>D</td>\n",
       "      <td>F</td>\n",
       "      <td>Fora do prazo</td>\n",
       "      <td>Não Encerrado</td>\n",
       "      <td>Andamento</td>\n",
       "      <td>None</td>\n",
       "      <td>0</td>\n",
       "      <td>2023-02-01</td>\n",
       "      <td>POINT(-43.2629212 -22.8786302)</td>\n",
       "    </tr>\n",
       "    <tr>\n",
       "      <th>2</th>\n",
       "      <td>18350630</td>\n",
       "      <td>2023-02-25 15:29:20</td>\n",
       "      <td>NaT</td>\n",
       "      <td>128</td>\n",
       "      <td>4</td>\n",
       "      <td>204339</td>\n",
       "      <td>600</td>\n",
       "      <td>70</td>\n",
       "      <td>GM-RIO - Guarda Municipal do Rio de Janeiro</td>\n",
       "      <td>GM-RIO - Guarda Municipal do Rio de Janeiro</td>\n",
       "      <td>...</td>\n",
       "      <td>&lt;NA&gt;</td>\n",
       "      <td>D</td>\n",
       "      <td>F</td>\n",
       "      <td>Fora do prazo</td>\n",
       "      <td>Não Encerrado</td>\n",
       "      <td>Andamento</td>\n",
       "      <td>None</td>\n",
       "      <td>0</td>\n",
       "      <td>2023-02-01</td>\n",
       "      <td>POINT(-43.3033175 -23.0145087)</td>\n",
       "    </tr>\n",
       "    <tr>\n",
       "      <th>3</th>\n",
       "      <td>18347246</td>\n",
       "      <td>2023-02-24 16:19:55</td>\n",
       "      <td>NaT</td>\n",
       "      <td>143</td>\n",
       "      <td>5</td>\n",
       "      <td>137968</td>\n",
       "      <td>25</td>\n",
       "      <td>70</td>\n",
       "      <td>GM-RIO - Guarda Municipal do Rio de Janeiro</td>\n",
       "      <td>GM-RIO - Guarda Municipal do Rio de Janeiro</td>\n",
       "      <td>...</td>\n",
       "      <td>&lt;NA&gt;</td>\n",
       "      <td>D</td>\n",
       "      <td>F</td>\n",
       "      <td>Fora do prazo</td>\n",
       "      <td>Não Encerrado</td>\n",
       "      <td>Andamento</td>\n",
       "      <td>None</td>\n",
       "      <td>0</td>\n",
       "      <td>2023-02-01</td>\n",
       "      <td>POINT(-43.5284028 -22.8737444)</td>\n",
       "    </tr>\n",
       "    <tr>\n",
       "      <th>4</th>\n",
       "      <td>18353918</td>\n",
       "      <td>2023-02-27 07:14:08</td>\n",
       "      <td>NaT</td>\n",
       "      <td>143</td>\n",
       "      <td>5</td>\n",
       "      <td>40477</td>\n",
       "      <td>3</td>\n",
       "      <td>70</td>\n",
       "      <td>GM-RIO - Guarda Municipal do Rio de Janeiro</td>\n",
       "      <td>GM-RIO - Guarda Municipal do Rio de Janeiro</td>\n",
       "      <td>...</td>\n",
       "      <td>&lt;NA&gt;</td>\n",
       "      <td>D</td>\n",
       "      <td>F</td>\n",
       "      <td>Fora do prazo</td>\n",
       "      <td>Não Encerrado</td>\n",
       "      <td>Andamento</td>\n",
       "      <td>None</td>\n",
       "      <td>0</td>\n",
       "      <td>2023-02-01</td>\n",
       "      <td>None</td>\n",
       "    </tr>\n",
       "  </tbody>\n",
       "</table>\n",
       "<p>5 rows × 32 columns</p>\n",
       "</div>"
      ],
      "text/plain": [
       "  id_chamado         data_inicio data_fim id_bairro id_territorialidade  \\\n",
       "0   18353603 2023-02-26 22:00:42      NaT        33                   2   \n",
       "1   18344353 2023-02-24 09:48:16      NaT        52                   3   \n",
       "2   18350630 2023-02-25 15:29:20      NaT       128                   4   \n",
       "3   18347246 2023-02-24 16:19:55      NaT       143                   5   \n",
       "4   18353918 2023-02-27 07:14:08      NaT       143                   5   \n",
       "\n",
       "  id_logradouro  numero_logradouro id_unidade_organizacional  \\\n",
       "0         66381                359                        70   \n",
       "1         52225                 15                        70   \n",
       "2        204339                600                        70   \n",
       "3        137968                 25                        70   \n",
       "4         40477                  3                        70   \n",
       "\n",
       "                   nome_unidade_organizacional  \\\n",
       "0  GM-RIO - Guarda Municipal do Rio de Janeiro   \n",
       "1  GM-RIO - Guarda Municipal do Rio de Janeiro   \n",
       "2  GM-RIO - Guarda Municipal do Rio de Janeiro   \n",
       "3  GM-RIO - Guarda Municipal do Rio de Janeiro   \n",
       "4  GM-RIO - Guarda Municipal do Rio de Janeiro   \n",
       "\n",
       "                 id_unidade_organizacional_mae  ... tempo_prazo prazo_unidade  \\\n",
       "0  GM-RIO - Guarda Municipal do Rio de Janeiro  ...        <NA>             D   \n",
       "1  GM-RIO - Guarda Municipal do Rio de Janeiro  ...        <NA>             D   \n",
       "2  GM-RIO - Guarda Municipal do Rio de Janeiro  ...        <NA>             D   \n",
       "3  GM-RIO - Guarda Municipal do Rio de Janeiro  ...        <NA>             D   \n",
       "4  GM-RIO - Guarda Municipal do Rio de Janeiro  ...        <NA>             D   \n",
       "\n",
       "  prazo_tipo   dentro_prazo       situacao tipo_situacao justificativa_status  \\\n",
       "0          F  Fora do prazo  Não Encerrado     Andamento                 None   \n",
       "1          F  Fora do prazo  Não Encerrado     Andamento                 None   \n",
       "2          F  Fora do prazo  Não Encerrado     Andamento                 None   \n",
       "3          F  Fora do prazo  Não Encerrado     Andamento                 None   \n",
       "4          F  Fora do prazo  Não Encerrado     Andamento                 None   \n",
       "\n",
       "   reclamacoes  data_particao                        geometry  \n",
       "0            0     2023-02-01  POINT(-43.2357612 -22.9239904)  \n",
       "1            0     2023-02-01  POINT(-43.2629212 -22.8786302)  \n",
       "2            0     2023-02-01  POINT(-43.3033175 -23.0145087)  \n",
       "3            0     2023-02-01  POINT(-43.5284028 -22.8737444)  \n",
       "4            0     2023-02-01                            None  \n",
       "\n",
       "[5 rows x 32 columns]"
      ]
     },
     "execution_count": 2,
     "metadata": {},
     "output_type": "execute_result"
    }
   ],
   "source": [
    "df = pd.read_parquet(\n",
    "    \"../datasets/raw/dataset_chamado_1746_idsub-5071_2022-01-01-2023-12-01.parquet.gzip\"\n",
    ")\n",
    "print(\"dataset shape: \", df.shape)\n",
    "df.head()"
   ]
  },
  {
   "cell_type": "markdown",
   "metadata": {},
   "source": [
    "A seguir, vamos fazer algumas validações a respeito:\n",
    "- Tipos dos dados\n",
    "- Quantidade de valores nulos\n",
    "- Se existe dados duplicados"
   ]
  },
  {
   "cell_type": "code",
   "execution_count": 3,
   "metadata": {},
   "outputs": [
    {
     "data": {
      "text/plain": [
       "id_chamado                                  object\n",
       "data_inicio                         datetime64[ns]\n",
       "data_fim                            datetime64[ns]\n",
       "id_bairro                                   object\n",
       "id_territorialidade                         object\n",
       "id_logradouro                               object\n",
       "numero_logradouro                            Int64\n",
       "id_unidade_organizacional                   object\n",
       "nome_unidade_organizacional                 object\n",
       "id_unidade_organizacional_mae               object\n",
       "unidade_organizacional_ouvidoria            object\n",
       "categoria                                   object\n",
       "id_tipo                                     object\n",
       "tipo                                        object\n",
       "id_subtipo                                  object\n",
       "subtipo                                     object\n",
       "status                                      object\n",
       "longitude                                  float64\n",
       "latitude                                   float64\n",
       "data_alvo_finalizacao               datetime64[ns]\n",
       "data_alvo_diagnostico               datetime64[ns]\n",
       "data_real_diagnostico               datetime64[ns]\n",
       "tempo_prazo                                  Int64\n",
       "prazo_unidade                               object\n",
       "prazo_tipo                                  object\n",
       "dentro_prazo                                object\n",
       "situacao                                    object\n",
       "tipo_situacao                               object\n",
       "justificativa_status                        object\n",
       "reclamacoes                                  Int64\n",
       "data_particao                       datetime64[ns]\n",
       "geometry                                    object\n",
       "dtype: object"
      ]
     },
     "execution_count": 3,
     "metadata": {},
     "output_type": "execute_result"
    }
   ],
   "source": [
    "## Visualizando dtypes\n",
    "df.dtypes"
   ]
  },
  {
   "cell_type": "markdown",
   "metadata": {},
   "source": [
    "Os dados estão com seus tipos corretos e iguais ao visto no BigQuery."
   ]
  },
  {
   "cell_type": "markdown",
   "metadata": {},
   "source": [
    "É importante que os id_chamados sejam únicos pois isso garante que cada linha se refira a um único chamado. Para garantir que está tudo correto, vamos verificar se temos ids duplicados"
   ]
  },
  {
   "cell_type": "code",
   "execution_count": 4,
   "metadata": {},
   "outputs": [
    {
     "data": {
      "text/html": [
       "<div>\n",
       "<style scoped>\n",
       "    .dataframe tbody tr th:only-of-type {\n",
       "        vertical-align: middle;\n",
       "    }\n",
       "\n",
       "    .dataframe tbody tr th {\n",
       "        vertical-align: top;\n",
       "    }\n",
       "\n",
       "    .dataframe thead th {\n",
       "        text-align: right;\n",
       "    }\n",
       "</style>\n",
       "<table border=\"1\" class=\"dataframe\">\n",
       "  <thead>\n",
       "    <tr style=\"text-align: right;\">\n",
       "      <th></th>\n",
       "      <th>id_chamado</th>\n",
       "      <th>data_inicio</th>\n",
       "      <th>data_fim</th>\n",
       "      <th>id_bairro</th>\n",
       "      <th>id_territorialidade</th>\n",
       "      <th>id_logradouro</th>\n",
       "      <th>numero_logradouro</th>\n",
       "      <th>id_unidade_organizacional</th>\n",
       "      <th>nome_unidade_organizacional</th>\n",
       "      <th>id_unidade_organizacional_mae</th>\n",
       "      <th>...</th>\n",
       "      <th>tempo_prazo</th>\n",
       "      <th>prazo_unidade</th>\n",
       "      <th>prazo_tipo</th>\n",
       "      <th>dentro_prazo</th>\n",
       "      <th>situacao</th>\n",
       "      <th>tipo_situacao</th>\n",
       "      <th>justificativa_status</th>\n",
       "      <th>reclamacoes</th>\n",
       "      <th>data_particao</th>\n",
       "      <th>geometry</th>\n",
       "    </tr>\n",
       "  </thead>\n",
       "  <tbody>\n",
       "  </tbody>\n",
       "</table>\n",
       "<p>0 rows × 32 columns</p>\n",
       "</div>"
      ],
      "text/plain": [
       "Empty DataFrame\n",
       "Columns: [id_chamado, data_inicio, data_fim, id_bairro, id_territorialidade, id_logradouro, numero_logradouro, id_unidade_organizacional, nome_unidade_organizacional, id_unidade_organizacional_mae, unidade_organizacional_ouvidoria, categoria, id_tipo, tipo, id_subtipo, subtipo, status, longitude, latitude, data_alvo_finalizacao, data_alvo_diagnostico, data_real_diagnostico, tempo_prazo, prazo_unidade, prazo_tipo, dentro_prazo, situacao, tipo_situacao, justificativa_status, reclamacoes, data_particao, geometry]\n",
       "Index: []\n",
       "\n",
       "[0 rows x 32 columns]"
      ]
     },
     "execution_count": 4,
     "metadata": {},
     "output_type": "execute_result"
    }
   ],
   "source": [
    "df[df.duplicated(subset=[\"id_chamado\"])]"
   ]
  },
  {
   "cell_type": "markdown",
   "metadata": {},
   "source": [
    "Como queremos apenas um tipo de subtipo relacionado a pertubação do sossego, precisamos que id_subtipo e subtipo sejam apenas de único tipo."
   ]
  },
  {
   "cell_type": "code",
   "execution_count": 5,
   "metadata": {},
   "outputs": [
    {
     "name": "stdout",
     "output_type": "stream",
     "text": [
      "valores únicos id_subtipo:  ['5071']\n",
      "valores únicos subtipo:  ['Perturbação do sossego']\n"
     ]
    },
    {
     "data": {
      "text/plain": [
       "id_subtipo    1\n",
       "subtipo       1\n",
       "dtype: int64"
      ]
     },
     "execution_count": 5,
     "metadata": {},
     "output_type": "execute_result"
    }
   ],
   "source": [
    "print(\"valores únicos id_subtipo: \", pd.unique(df[\"id_subtipo\"]))\n",
    "print(\"valores únicos subtipo: \", pd.unique(df[\"subtipo\"]))\n",
    "df[[\"id_subtipo\", \"subtipo\"]].nunique()"
   ]
  },
  {
   "cell_type": "markdown",
   "metadata": {},
   "source": [
    "Também vamos avaliar a quantidade de dados nulos. É importante que não exista id_chamados e id_subtipo nulos e também que cada um seja associado a uma data_inicio pois assim evitamos perdas de registros."
   ]
  },
  {
   "cell_type": "code",
   "execution_count": 6,
   "metadata": {},
   "outputs": [
    {
     "data": {
      "text/plain": [
       "id_chamado                            0.000000\n",
       "data_inicio                           0.000000\n",
       "data_fim                              9.915582\n",
       "id_bairro                             0.247595\n",
       "id_territorialidade                   0.247595\n",
       "id_logradouro                         0.247595\n",
       "numero_logradouro                     4.329372\n",
       "id_unidade_organizacional             0.000000\n",
       "nome_unidade_organizacional           0.000000\n",
       "id_unidade_organizacional_mae         0.000000\n",
       "unidade_organizacional_ouvidoria      0.000000\n",
       "categoria                             0.000000\n",
       "id_tipo                               0.000000\n",
       "tipo                                  0.000000\n",
       "id_subtipo                            0.000000\n",
       "subtipo                               0.000000\n",
       "status                                0.000000\n",
       "longitude                            12.165158\n",
       "latitude                             12.165158\n",
       "data_alvo_finalizacao                 0.000000\n",
       "data_alvo_diagnostico               100.000000\n",
       "data_real_diagnostico               100.000000\n",
       "tempo_prazo                         100.000000\n",
       "prazo_unidade                         0.035371\n",
       "prazo_tipo                            0.035371\n",
       "dentro_prazo                          0.000000\n",
       "situacao                              0.000000\n",
       "tipo_situacao                         0.000000\n",
       "justificativa_status                100.000000\n",
       "reclamacoes                           0.000000\n",
       "data_particao                         0.000000\n",
       "geometry                             12.165158\n",
       "dtype: float64"
      ]
     },
     "execution_count": 6,
     "metadata": {},
     "output_type": "execute_result"
    }
   ],
   "source": [
    "# Verificando valores nulos\n",
    "(df.isnull().sum() / df.shape[0]) * 100.0"
   ]
  },
  {
   "cell_type": "markdown",
   "metadata": {},
   "source": [
    "Apenas por cuidado, vamos avaliar se cada particao contém apenas chamados referente ao mês e ano daquela partição."
   ]
  },
  {
   "cell_type": "code",
   "execution_count": 7,
   "metadata": {},
   "outputs": [
    {
     "data": {
      "text/plain": [
       "data_particao  data_inicio_month  data_inicio_year\n",
       "2022-01-01     1                  2022                1920\n",
       "2022-02-01     2                  2022                2403\n",
       "2022-03-01     3                  2022                2285\n",
       "2022-04-01     4                  2022                2273\n",
       "2022-05-01     5                  2022                2721\n",
       "2022-06-01     6                  2022                3110\n",
       "2022-07-01     7                  2022                3579\n",
       "2022-08-01     8                  2022                3037\n",
       "2022-09-01     9                  2022                2562\n",
       "2022-10-01     10                 2022                2624\n",
       "2022-11-01     11                 2022                2407\n",
       "2022-12-01     12                 2022                2192\n",
       "2023-01-01     1                  2023                2129\n",
       "2023-02-01     2                  2023                1791\n",
       "2023-03-01     3                  2023                2270\n",
       "2023-04-01     4                  2023                1840\n",
       "2023-05-01     5                  2023                1180\n",
       "2023-06-01     6                  2023                1214\n",
       "2023-07-01     7                  2023                 643\n",
       "2023-08-01     8                  2023                  61\n",
       "2023-09-01     9                  2023                  92\n",
       "2023-10-01     10                 2023                  36\n",
       "2023-11-01     11                 2023                  29\n",
       "2023-12-01     12                 2023                  10\n",
       "dtype: int64"
      ]
     },
     "execution_count": 7,
     "metadata": {},
     "output_type": "execute_result"
    }
   ],
   "source": [
    "df_div_monthyear = df[[\"data_inicio\", \"data_particao\"]].copy()\n",
    "df_div_monthyear[\"data_inicio_month\"] = df_div_monthyear[\"data_inicio\"].dt.month\n",
    "df_div_monthyear[\"data_inicio_year\"] = df_div_monthyear[\"data_inicio\"].dt.year\n",
    "df_div_monthyear.groupby(\"data_particao\")[\n",
    "    [\"data_inicio_month\", \"data_inicio_year\"]\n",
    "].value_counts()"
   ]
  },
  {
   "cell_type": "markdown",
   "metadata": {},
   "source": [
    "Os dados estão com ótima qualidade! Não existe id_chamado e id_subtipo duplicados e nulos (estão consistentes), os tipos de dados estão corretos e conforme tabela com BigQuery e também cada chamado tem sua data_inicio definida e todos os dados nela correspondem ao ano e mês de sua partição!"
   ]
  },
  {
   "cell_type": "markdown",
   "metadata": {},
   "source": [
    "# 3. Respondendo perguntas\n",
    "\n",
    "Com os dados validados, agora vamos responder as perguntas!"
   ]
  },
  {
   "cell_type": "markdown",
   "metadata": {},
   "source": [
    "## 6. Quantos chamados com o subtipo \"Perturbação do sossego\" foram abertos desde 01/01/2022 até 31/12/2023 (incluindo extremidades)?\n"
   ]
  },
  {
   "cell_type": "markdown",
   "metadata": {},
   "source": [
    "Como nosso dataset contém apenas dados do subtipo pertubação do sossego entre os anos de 2022 e 2023 basta contar o número de linhas"
   ]
  },
  {
   "cell_type": "code",
   "execution_count": 8,
   "metadata": {},
   "outputs": [
    {
     "name": "stdout",
     "output_type": "stream",
     "text": [
      "quantidade de chamados entre 2022 e 2023:  42408\n"
     ]
    }
   ],
   "source": [
    "print(\"quantidade de chamados entre 2022 e 2023: \", df.shape[0])"
   ]
  },
  {
   "cell_type": "code",
   "execution_count": 9,
   "metadata": {},
   "outputs": [
    {
     "data": {
      "text/plain": [
       "data_particao\n",
       "2022-01-01    1920\n",
       "2022-02-01    2403\n",
       "2022-03-01    2285\n",
       "2022-04-01    2273\n",
       "2022-05-01    2721\n",
       "2022-06-01    3110\n",
       "2022-07-01    3579\n",
       "2022-08-01    3037\n",
       "2022-09-01    2562\n",
       "2022-10-01    2624\n",
       "2022-11-01    2407\n",
       "2022-12-01    2192\n",
       "2023-01-01    2129\n",
       "2023-02-01    1791\n",
       "2023-03-01    2270\n",
       "2023-04-01    1840\n",
       "2023-05-01    1180\n",
       "2023-06-01    1214\n",
       "2023-07-01     643\n",
       "2023-08-01      61\n",
       "2023-09-01      92\n",
       "2023-10-01      36\n",
       "2023-11-01      29\n",
       "2023-12-01      10\n",
       "Name: id_chamado, dtype: int64"
      ]
     },
     "execution_count": 9,
     "metadata": {},
     "output_type": "execute_result"
    }
   ],
   "source": [
    "# verificando por data particao\n",
    "df.groupby(\"data_particao\")[\"id_chamado\"].count()"
   ]
  },
  {
   "cell_type": "markdown",
   "metadata": {},
   "source": [
    "## 7. Selecione os chamados com esse subtipo que foram abertos durante os eventos contidos na tabela de eventos (Reveillon, Carnaval e Rock in Rio).\n"
   ]
  },
  {
   "cell_type": "markdown",
   "metadata": {},
   "source": [
    "As datas dos eventos estão na tabela `datario.turismo_fluxo_visitantes.rede_hoteleira_ocupacao_eventos` ilustrada na imagem abaixo. A partir delas, podemos dividir nosso dataset de acordo com elas e calcular a quantidade de chamados.\n",
    "\n",
    "![Tabela_ocupac_hotelaria](../images/tabela_datario_hotelaria_ocup_grandes_eventos.png)"
   ]
  },
  {
   "cell_type": "code",
   "execution_count": 10,
   "metadata": {},
   "outputs": [],
   "source": [
    "# Definindo variáveis de eventos\n",
    "eventos = {\n",
    "    \"is_RiR2022_w1\": {\"init_date\": date(2022, 9, 2), \"final_date\": date(2022, 9, 4)},\n",
    "    \"is_RiR2022_w2\": {\"init_date\": date(2022, 9, 8), \"final_date\": date(2022, 9, 11)},\n",
    "    \"is_reveillon2023\": {\n",
    "        \"init_date\": date(2022, 12, 30),\n",
    "        \"final_date\": date(2023, 1, 1),\n",
    "    },\n",
    "    \"is_carnaval2023\": {\n",
    "        \"init_date\": date(2023, 2, 18),\n",
    "        \"final_date\": date(2023, 2, 21),\n",
    "    },\n",
    "}"
   ]
  },
  {
   "cell_type": "code",
   "execution_count": 11,
   "metadata": {},
   "outputs": [],
   "source": [
    "# Definindo eventos\n",
    "def create_col_for_event(\n",
    "    dataframe: pd.DataFrame,\n",
    "    name_event: str,\n",
    "    ref_date_col: str,\n",
    "    init_date: date,\n",
    "    final_date: date,\n",
    "):\n",
    "    dataframe[name_event] = dataframe[ref_date_col].dt.date.map(\n",
    "        lambda d: 1.0 if d >= init_date and d <= final_date else 0.0\n",
    "    )\n",
    "    return dataframe\n",
    "\n",
    "\n",
    "for evnt, dates in eventos.items():\n",
    "    create_col_for_event(\n",
    "        dataframe=df,\n",
    "        name_event=evnt,\n",
    "        ref_date_col=\"data_inicio\",\n",
    "        init_date=dates[\"init_date\"],\n",
    "        final_date=dates[\"final_date\"],\n",
    "    )"
   ]
  },
  {
   "cell_type": "code",
   "execution_count": 12,
   "metadata": {},
   "outputs": [
    {
     "name": "stdout",
     "output_type": "stream",
     "text": [
      "Quantidade de chamados em eventos é:  1212\n"
     ]
    }
   ],
   "source": [
    "# Defininindo a quantidade de eventos\n",
    "df_chamados_em_eventos = df[\n",
    "    (df[\"is_RiR2022_w1\"] == 1.0)\n",
    "    | (df[\"is_RiR2022_w2\"] == 1.0)\n",
    "    | (df[\"is_reveillon2023\"] == 1.0)\n",
    "    | (df[\"is_carnaval2023\"] == 1.0)\n",
    "]\n",
    "print(\"Quantidade de chamados em eventos é: \", df_chamados_em_eventos.shape[0])"
   ]
  },
  {
   "cell_type": "markdown",
   "metadata": {},
   "source": [
    "## 8. Quantos chamados desse subtipo foram abertos em cada evento?\n"
   ]
  },
  {
   "cell_type": "code",
   "execution_count": 13,
   "metadata": {},
   "outputs": [
    {
     "data": {
      "text/plain": [
       "is_RiR2022_w1       366\n",
       "is_RiR2022_w2       468\n",
       "is_reveillon2023    137\n",
       "is_carnaval2023     241\n",
       "dtype: int64"
      ]
     },
     "execution_count": 13,
     "metadata": {},
     "output_type": "execute_result"
    },
    {
     "data": {
      "image/png": "[encoded data removed]",
      "text/plain": [
       "<Figure size 640x480 with 1 Axes>"
      ]
     },
     "metadata": {},
     "output_type": "display_data"
    }
   ],
   "source": [
    "qtd_chamados_eventos = dict()\n",
    "for col in eventos.keys():\n",
    "    count_chamados = df_chamados_em_eventos.groupby(col)[\"id_chamado\"].count()\n",
    "    qtd_chamados_eventos[col] = count_chamados.at[1.0]\n",
    "\n",
    "s_qtd_chamados_eventos = pd.Series(qtd_chamados_eventos)\n",
    "s_qtd_chamados_eventos.plot.bar(rot=45)\n",
    "s_qtd_chamados_eventos"
   ]
  },
  {
   "cell_type": "markdown",
   "metadata": {},
   "source": [
    "`is_RiR2022_w1` e `is_RiR2022_w2` se referem ao Rock in Rio 2022 e `is_reveillion2023` e `is_carnaval2023` se referem ao Reveillion e Carnaval respectivamente. \n",
    "\n",
    "O rock in rio é o evento que mais apresentou chamados do tipo `Perturbação do Sossego` com a segunda semana tendo mais registros (mas em comparação com a semana 1 ela teve 1 dia a mais)"
   ]
  },
  {
   "cell_type": "markdown",
   "metadata": {},
   "source": [
    "## 9. Qual evento teve a maior média diária de chamados abertos desse subtipo?\n"
   ]
  },
  {
   "cell_type": "code",
   "execution_count": 14,
   "metadata": {},
   "outputs": [
    {
     "data": {
      "text/plain": [
       "is_RiR2022_w1       122.00\n",
       "is_RiR2022_w2       117.00\n",
       "is_reveillon2023     45.67\n",
       "is_carnaval2023      60.25\n",
       "dtype: float64"
      ]
     },
     "execution_count": 14,
     "metadata": {},
     "output_type": "execute_result"
    },
    {
     "data": {
      "image/png": "[encoded data removed]",
      "text/plain": [
       "<Figure size 640x480 with 1 Axes>"
      ]
     },
     "metadata": {},
     "output_type": "display_data"
    }
   ],
   "source": [
    "mean_per_day_chamados_eventos = dict()\n",
    "\n",
    "for col in eventos.keys():\n",
    "    ct_chamados = (\n",
    "        df_chamados_em_eventos[df_chamados_em_eventos[col] == 1.0]\n",
    "        .groupby(df[\"data_inicio\"].dt.date)[\"id_chamado\"]\n",
    "        .count()\n",
    "    )\n",
    "    mean_per_day_chamados_eventos[col] = np.round(\n",
    "        ct_chamados.sum() / len(ct_chamados), 2\n",
    "    )\n",
    "\n",
    "s_mean_per_day_chamados_eventos = pd.Series(mean_per_day_chamados_eventos)\n",
    "s_mean_per_day_chamados_eventos.plot.bar(rot=45)\n",
    "s_mean_per_day_chamados_eventos"
   ]
  },
  {
   "cell_type": "markdown",
   "metadata": {},
   "source": [
    "O Rock in Rio foi o evento com maior médio diária de chamados do tipo perturbação do sossego. A primeira semana com média pouco maior que a segunda, isso porque ela tem 1 dia a menos e então as somas diárias acabam sendo divididas por número menor."
   ]
  },
  {
   "cell_type": "markdown",
   "metadata": {},
   "source": [
    "## 10. Compare as médias diárias de chamados abertos desse subtipo durante os eventos específicos (Reveillon, Carnaval e Rock in Rio) e a média diária de chamados abertos desse subtipo considerando todo o período de 01/01/2022 até 31/12/2023."
   ]
  },
  {
   "cell_type": "code",
   "execution_count": 15,
   "metadata": {},
   "outputs": [
    {
     "data": {
      "text/plain": [
       "is_RiR2022_w1              122.000000\n",
       "is_RiR2022_w2              117.000000\n",
       "is_reveillon2023            45.670000\n",
       "is_carnaval2023             60.250000\n",
       "média_anual_de_chamados     63.201192\n",
       "dtype: float64"
      ]
     },
     "execution_count": 15,
     "metadata": {},
     "output_type": "execute_result"
    },
    {
     "data": {
      "image/png": "[encoded data removed]",
      "text/plain": [
       "<Figure size 640x480 with 1 Axes>"
      ]
     },
     "metadata": {},
     "output_type": "display_data"
    }
   ],
   "source": [
    "s_compare_eventos = s_mean_per_day_chamados_eventos.copy()\n",
    "s_total = df.groupby(df[\"data_inicio\"].dt.date)[\"id_chamado\"].count()\n",
    "mean_total = s_total.sum() / len(s_total)\n",
    "s_compare_eventos[\"média_anual_de_chamados\"] = mean_total\n",
    "\n",
    "s_compare_eventos.plot.bar(rot=45)\n",
    "s_compare_eventos"
   ]
  },
  {
   "cell_type": "markdown",
   "metadata": {},
   "source": [
    "A média anual de chamados considerando 2022 e 2023 é de 63 chamados de perturbação do sossego ao dia. Isso torna os valores obtidos nas semanas de Rock in Rio bem acima do normal (a semana 1 cerca de 93% maior que a média anual). O carnaval obteve uma média próxima a anual e o reveillon obteve uma média menor que a anual."
   ]
  },
  {
   "cell_type": "code",
   "execution_count": null,
   "metadata": {},
   "outputs": [],
   "source": []
  },
  {
   "cell_type": "code",
   "execution_count": null,
   "metadata": {},
   "outputs": [],
   "source": []
  }
 ],
 "metadata": {
  "kernelspec": {
   "display_name": "ds-data-analysis-prefrj",
   "language": "python",
   "name": "python3"
  },
  "language_info": {
   "codemirror_mode": {
    "name": "ipython",
    "version": 3
   },
   "file_extension": ".py",
   "mimetype": "text/x-python",
   "name": "python",
   "nbconvert_exporter": "python",
   "pygments_lexer": "ipython3",
   "version": "3.10.13"
  }
 },
 "nbformat": 4,
 "nbformat_minor": 2
}
